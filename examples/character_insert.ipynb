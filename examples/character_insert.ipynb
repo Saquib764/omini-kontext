{
 "cells": [
  {
   "cell_type": "code",
   "execution_count": null,
   "metadata": {},
   "outputs": [],
   "source": [
    "import os\n",
    "\n",
    "os.chdir(\"..\")"
   ]
  },
  {
   "cell_type": "code",
   "execution_count": null,
   "metadata": {},
   "outputs": [],
   "source": [
    "import torch\n",
    "from diffusers.pipelines import FluxPipeline\n",
    "from src.flux.condition import Condition\n",
    "from PIL import Image\n",
    "\n",
    "from src.flux.generate import generate, seed_everything"
   ]
  },
  {
   "cell_type": "code",
   "execution_count": null,
   "metadata": {},
   "outputs": [],
   "source": [
    "pipe = FluxPipeline.from_pretrained(\n",
    "    \"black-forest-labs/FLUX.1-Kontext-dev\", torch_dtype=torch.bfloat16\n",
    ")\n",
    "pipe = pipe.to(\"cuda\")\n",
    "pipe.load_lora_weights(\n",
    "    \"../runs/20250801-153108/ckpt\",\n",
    "    weight_name=f\"1000/pytorch_lora_weights.safetensors\",\n",
    "    adapter_name=\"character\",\n",
    ")"
   ]
  },
  {
   "cell_type": "code",
   "execution_count": null,
   "metadata": {},
   "outputs": [],
   "source": [
    "image = Image.open(\"../assets/scene_01.png\").convert(\"RGB\")\n",
    "reference = Image.open(\"../assets/boy_reference_512.png\").convert(\"RGB\")\n",
    "\n",
    "width, height = image.size\n",
    "\n",
    "\n",
    "prompt = \"Add character to the image.\"\n",
    "\n",
    "\n",
    "seed_everything(0)\n",
    "\n",
    "result_img = pipe(\n",
    "    prompt=prompt,\n",
    "    image=image,\n",
    "    reference=reference,\n",
    "    reference_delta=[0, (1024 + 512)//16],\n",
    "    num_inference_steps=28,\n",
    "    height=height,\n",
    "    width=width,\n",
    ").images[0]\n",
    "\n",
    "result_img"
   ]
  }
 ],
 "metadata": {
  "kernelspec": {
   "display_name": "base",
   "language": "python",
   "name": "python3"
  },
  "language_info": {
   "codemirror_mode": {
    "name": "ipython",
    "version": 3
   },
   "file_extension": ".py",
   "mimetype": "text/x-python",
   "name": "python",
   "nbconvert_exporter": "python",
   "pygments_lexer": "ipython3",
   "version": "3.12.7"
  }
 },
 "nbformat": 4,
 "nbformat_minor": 2
}
