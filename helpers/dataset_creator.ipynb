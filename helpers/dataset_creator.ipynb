{
 "cells": [
  {
   "cell_type": "code",
   "execution_count": 1,
   "metadata": {},
   "outputs": [],
   "source": [
    "import os\n",
    "\n",
    "os.chdir(\"..\")"
   ]
  },
  {
   "cell_type": "code",
   "execution_count": 2,
   "metadata": {},
   "outputs": [],
   "source": [
    "import torch\n",
    "from diffusers import FluxKontextPipeline\n",
    "from PIL import Image\n",
    "import helpers.drawing as drawing\n",
    "import numpy as np\n",
    "import cv2\n",
    "import shutil\n"
   ]
  },
  {
   "cell_type": "code",
   "execution_count": 3,
   "metadata": {},
   "outputs": [],
   "source": [
    "# !export HF_HUB_CACHE=./cache"
   ]
  },
  {
   "cell_type": "markdown",
   "metadata": {},
   "source": [
    "## Normal FluxKontext Generation"
   ]
  },
  {
   "cell_type": "code",
   "execution_count": 5,
   "metadata": {},
   "outputs": [
    {
     "name": "stderr",
     "output_type": "stream",
     "text": [
      "Loading pipeline components...:   0%|                                                 | 0/7 [00:00<?, ?it/s]\n",
      "Loading checkpoint shards:   0%|                                                      | 0/3 [00:00<?, ?it/s]\u001b[A\n",
      "Loading checkpoint shards: 100%|██████████████████████████████████████████████| 3/3 [00:00<00:00, 29.36it/s]\u001b[A\n",
      "Loading pipeline components...:  29%|███████████▋                             | 2/7 [00:00<00:00,  5.39it/s]\n",
      "Loading checkpoint shards:   0%|                                                      | 0/2 [00:00<?, ?it/s]\u001b[A\n",
      "Loading checkpoint shards:  50%|███████████████████████                       | 1/2 [00:00<00:00,  6.99it/s]\u001b[A\n",
      "Loading checkpoint shards: 100%|██████████████████████████████████████████████| 2/2 [00:00<00:00,  7.01it/s]\u001b[A\n",
      "Loading pipeline components...:  57%|███████████████████████▍                 | 4/7 [00:00<00:00,  5.46it/s]You set `add_prefix_space`. The tokenizer needs to be converted from the slow tokenizers\n",
      "Loading pipeline components...: 100%|█████████████████████████████████████████| 7/7 [00:00<00:00,  7.14it/s]\n"
     ]
    }
   ],
   "source": [
    "pipe = FluxKontextPipeline.from_pretrained(\n",
    "    \"black-forest-labs/FLUX.1-Kontext-dev\", torch_dtype=torch.bfloat16\n",
    ")\n",
    "pipe = pipe.to(\"cuda\")\n"
   ]
  },
  {
   "cell_type": "markdown",
   "metadata": {},
   "source": [
    "## Extract the subject/character"
   ]
  },
  {
   "cell_type": "code",
   "execution_count": 6,
   "metadata": {},
   "outputs": [
    {
     "name": "stderr",
     "output_type": "stream",
     "text": [
      "100%|███████████████████████████████████████████████████████████████████████| 14/14 [00:17<00:00,  1.23s/it]\n"
     ]
    }
   ],
   "source": [
    "\n",
    "def generate_image(base_scene_path, save_path, prompt = \"Add character to the image.\", width=None, height=None):\n",
    "    base_scene = Image.open(base_scene_path).convert(\"RGB\")\n",
    "\n",
    "    if width is None:\n",
    "        width, height = base_scene.size\n",
    "\n",
    "    seed = torch.Generator().manual_seed(42)\n",
    "\n",
    "    result_img_base = pipe(\n",
    "        prompt=prompt,\n",
    "        image=base_scene,\n",
    "        num_inference_steps=28,\n",
    "        height=height,\n",
    "        width=width,\n",
    "        # generator=seed,\n",
    "        _auto_resize=False\n",
    "    ).images[0]\n",
    "    result_img_base.save(save_path)\n",
    "    return result_img_base"
   ]
  },
  {
   "cell_type": "code",
   "execution_count": 21,
   "metadata": {},
   "outputs": [
    {
     "data": {
      "text/plain": [
       "104"
      ]
     },
     "execution_count": 21,
     "metadata": {},
     "output_type": "execute_result"
    }
   ],
   "source": [
    "src = \"custom_data/product\"\n",
    "\n",
    "end_dir = os.path.join(src, \"original\")\n",
    "image_extensions = (\".png\", \".jpg\", \".jpeg\", \".webp\")\n",
    "image_paths = [\n",
    "    os.path.join(end_dir, fname)\n",
    "    for fname in os.listdir(end_dir)\n",
    "    if fname.lower().endswith(image_extensions)\n",
    "]\n",
    "image_paths.sort()\n",
    "\n",
    "# Create end, reference and start folders, if it doesnot exists\n",
    "os.makedirs(os.path.join(src, \"end\"), exist_ok=True)\n",
    "os.makedirs(os.path.join(src, \"reference\"), exist_ok=True)\n",
    "os.makedirs(os.path.join(src, \"start\"), exist_ok=True)\n",
    "\n",
    "len(image_paths)"
   ]
  },
  {
   "cell_type": "code",
   "execution_count": 4,
   "metadata": {},
   "outputs": [],
   "source": [
    "\n",
    "# Rename all images in end_dir as 000.<ext>, 001.<ext>, etc.\n",
    "for idx, old_path in enumerate(sorted(image_paths)):\n",
    "    ext = os.path.splitext(old_path)[1].lower()\n",
    "    new_name = f\"{idx:03d}{ext}\"\n",
    "    new_path = os.path.join(end_dir, new_name)\n",
    "    shutil.move(old_path, new_path)\n",
    "\n",
    "# Update image_paths to reflect new names\n",
    "image_paths = [\n",
    "    os.path.join(end_dir, fname)\n",
    "    for fname in sorted(os.listdir(end_dir))\n",
    "    if fname.lower().endswith(image_extensions)\n",
    "]"
   ]
  },
  {
   "cell_type": "code",
   "execution_count": 28,
   "metadata": {},
   "outputs": [],
   "source": [
    "\n",
    "i = 11"
   ]
  },
  {
   "cell_type": "code",
   "execution_count": 121,
   "metadata": {},
   "outputs": [
    {
     "ename": "IndexError",
     "evalue": "list index out of range",
     "output_type": "error",
     "traceback": [
      "\u001b[0;31m---------------------------------------------------------------------------\u001b[0m",
      "\u001b[0;31mIndexError\u001b[0m                                Traceback (most recent call last)",
      "Cell \u001b[0;32mIn[121], line 2\u001b[0m\n\u001b[1;32m      1\u001b[0m i \u001b[38;5;241m=\u001b[39m i\u001b[38;5;241m+\u001b[39m\u001b[38;5;241m1\u001b[39m\n\u001b[0;32m----> 2\u001b[0m drawing\u001b[38;5;241m.\u001b[39mcrop_image(\u001b[43mimage_paths\u001b[49m\u001b[43m[\u001b[49m\u001b[43mi\u001b[49m\u001b[43m]\u001b[49m, image_paths[i]\u001b[38;5;241m.\u001b[39mreplace(\u001b[38;5;124m\"\u001b[39m\u001b[38;5;124moriginal\u001b[39m\u001b[38;5;124m\"\u001b[39m, \u001b[38;5;124m\"\u001b[39m\u001b[38;5;124mend\u001b[39m\u001b[38;5;124m\"\u001b[39m))\n",
      "\u001b[0;31mIndexError\u001b[0m: list index out of range"
     ]
    }
   ],
   "source": [
    "i = i+1\n",
    "drawing.crop_image(image_paths[i], image_paths[i].replace(\"original\", \"end\"))\n"
   ]
  },
  {
   "cell_type": "code",
   "execution_count": null,
   "metadata": {},
   "outputs": [],
   "source": []
  },
  {
   "cell_type": "code",
   "execution_count": 20,
   "metadata": {},
   "outputs": [],
   "source": [
    "end_dir = os.path.join(src, \"end\")\n",
    "image_extensions = (\".png\", \".jpg\", \".jpeg\", \".webp\")\n",
    "image_paths = [\n",
    "    os.path.join(end_dir, fname)\n",
    "    for fname in os.listdir(end_dir)\n",
    "    if fname.lower().endswith(image_extensions)\n",
    "]\n",
    "\n"
   ]
  },
  {
   "cell_type": "code",
   "execution_count": null,
   "metadata": {},
   "outputs": [],
   "source": [
    "reference_prompt = \"Extract the boy from the image, in a white background.\"\n",
    "for image_path in image_paths:\n",
    "    reference_save_path = image_path.replace(\"end\", \"reference\")\n",
    "    generate_image(image_path, reference_save_path, reference_prompt, 512, 512)"
   ]
  },
  {
   "cell_type": "code",
   "execution_count": null,
   "metadata": {},
   "outputs": [],
   "source": [
    "start_prompt = \"Remove the boy from the image.\"\n",
    "for image_path in image_paths:\n",
    "    start_save_path = image_path.replace(\"end\", \"start\")\n",
    "    generate_image(image_path, start_save_path, start_prompt)"
   ]
  }
 ],
 "metadata": {
  "kernelspec": {
   "display_name": "Python 3 (ipykernel)",
   "language": "python",
   "name": "python3"
  },
  "language_info": {
   "codemirror_mode": {
    "name": "ipython",
    "version": 3
   },
   "file_extension": ".py",
   "mimetype": "text/x-python",
   "name": "python",
   "nbconvert_exporter": "python",
   "pygments_lexer": "ipython3",
   "version": "3.12.2"
  }
 },
 "nbformat": 4,
 "nbformat_minor": 4
}
